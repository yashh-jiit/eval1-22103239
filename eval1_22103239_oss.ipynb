{
 "cells": [
  {
   "cell_type": "code",
   "execution_count": 108,
   "id": "7599edf5",
   "metadata": {},
   "outputs": [],
   "source": [
    "data = {}"
   ]
  },
  {
   "cell_type": "code",
   "execution_count": 109,
   "id": "38a18a9e",
   "metadata": {},
   "outputs": [],
   "source": [
    "def get_all_data():\n",
    "    for i in data:\n",
    "        print(\"Student ID: \"+str(i))\n",
    "        print(\"Student Name: \"+str(data[i][\"stu_name\"]))\n",
    "        print(\"Student Class: \"+str(data[i][\"stu_class\"]))\n",
    "        print(\"Student Grades: \"+str(data[i][\"stu_grades\"]))\n",
    "        print(\"\\n\\n\")"
   ]
  },
  {
   "cell_type": "code",
   "execution_count": 110,
   "id": "1303e94c",
   "metadata": {},
   "outputs": [],
   "source": [
    "def add_student(stu_id_in, stu_name_in, stu_class_in, stu_grades_in):\n",
    "    if stu_id_in not in data:\n",
    "        data[stu_id_in] = {\n",
    "            \"stu_name\": stu_name_in,\n",
    "            \"stu_class\": stu_class_in,\n",
    "            \"stu_grades\": stu_grades_in,\n",
    "        }\n",
    "    else:\n",
    "        print(\"Student with same id already exists.\")"
   ]
  },
  {
   "cell_type": "code",
   "execution_count": 111,
   "id": "c8b74253",
   "metadata": {},
   "outputs": [],
   "source": [
    "def update_grades(stu_id_in, stu_grades_in):\n",
    "    if stu_id_in not in data:\n",
    "        print(\"Student doesn't exist.\")\n",
    "        return\n",
    "    else:\n",
    "        data[stu_id_in][\"stu_grades\"] = stu_grades_in\n",
    "        print(\"Grades updated successfully\")"
   ]
  },
  {
   "cell_type": "code",
   "execution_count": 112,
   "id": "51d036b5",
   "metadata": {},
   "outputs": [],
   "source": [
    "def calculate_average(stu_id_in):\n",
    "    if stu_id_in not in data:\n",
    "        print(\"Student doesn't exist.\")\n",
    "        return -1\n",
    "    else:\n",
    "        av=0\n",
    "        for a in data[stu_id_in][\"stu_grades\"]:\n",
    "            av+=a\n",
    "        av/=len(data[stu_id_in][\"stu_grades\"])\n",
    "        return av"
   ]
  },
  {
   "cell_type": "code",
   "execution_count": 113,
   "id": "96c0b91b",
   "metadata": {},
   "outputs": [],
   "source": [
    "def get_top_from_class(stu_class_in):\n",
    "    max_avg = -1\n",
    "    max_id = -1\n",
    "    for i in data:\n",
    "        if data[i][\"stu_class\"] == stu_class_in:\n",
    "            if calculate_average(i)>max_avg:\n",
    "                max_avg = calculate_average(i)\n",
    "                max_id = i\n",
    "    return max_id"
   ]
  },
  {
   "cell_type": "code",
   "execution_count": 114,
   "id": "cf5f8aa0",
   "metadata": {},
   "outputs": [],
   "source": [
    "def generate_top_students_report():\n",
    "    each_class = {}\n",
    "    top = {}\n",
    "    for k in data:\n",
    "        if data[k][\"stu_class\"] not in each_class:\n",
    "            each_class[data[k][\"stu_class\"]] = 1\n",
    "        else:\n",
    "            each_class[data[k][\"stu_class\"]] += 1\n",
    "    for i in each_class:\n",
    "        stu_id_high = get_top_from_class(i)\n",
    "        top[i] = {\n",
    "            \"stu_class\": i,\n",
    "            \"stu_id\": stu_id_high,\n",
    "            \"stu_name\": data[stu_id_high][\"stu_name\"]\n",
    "        }\n",
    "    for i in top:\n",
    "        print(\"Student ID: \"+str(i))\n",
    "        print(\"Student Class: \"+str(top[i][\"stu_class\"]))\n",
    "        print(\"Student Name: \"+str(top[i][\"stu_name\"]))\n",
    "        print(\"\\n\\n\")\n",
    "    return top"
   ]
  },
  {
   "cell_type": "code",
   "execution_count": 115,
   "id": "c656593f",
   "metadata": {},
   "outputs": [],
   "source": [
    "add_student(1, \"Yash\", 12, [99, 66, 88, 98, 70])\n",
    "add_student(2, \"Saksham\", 12, [78, 97, 67, 66, 78])\n",
    "add_student(3, \"Vanshul\", 12, [98, 97, 90, 98, 95])\n",
    "add_student(4, \"Mittal\", 11, [67, 97, 89, 89, 95])\n",
    "add_student(5, \"Isha\", 11, [98, 97, 99, 99, 99])"
   ]
  },
  {
   "cell_type": "code",
   "execution_count": 116,
   "id": "d61ec027",
   "metadata": {},
   "outputs": [
    {
     "name": "stdout",
     "output_type": "stream",
     "text": [
      "Student ID: 1\n",
      "Student Name: Yash\n",
      "Student Class: 12\n",
      "Student Grades: [99, 66, 88, 98, 70]\n",
      "\n",
      "\n",
      "\n",
      "Student ID: 2\n",
      "Student Name: Saksham\n",
      "Student Class: 12\n",
      "Student Grades: [78, 97, 67, 66, 78]\n",
      "\n",
      "\n",
      "\n",
      "Student ID: 3\n",
      "Student Name: Vanshul\n",
      "Student Class: 12\n",
      "Student Grades: [98, 97, 90, 98, 95]\n",
      "\n",
      "\n",
      "\n",
      "Student ID: 4\n",
      "Student Name: Mittal\n",
      "Student Class: 11\n",
      "Student Grades: [67, 97, 89, 89, 95]\n",
      "\n",
      "\n",
      "\n",
      "Student ID: 5\n",
      "Student Name: Isha\n",
      "Student Class: 11\n",
      "Student Grades: [98, 97, 99, 99, 99]\n",
      "\n",
      "\n",
      "\n"
     ]
    }
   ],
   "source": [
    "get_all_data()"
   ]
  },
  {
   "cell_type": "code",
   "execution_count": 126,
   "id": "1d129cce",
   "metadata": {},
   "outputs": [
    {
     "name": "stdout",
     "output_type": "stream",
     "text": [
      "Student ID: 12\n",
      "Student Class: 12\n",
      "Student Name: Yash\n",
      "\n",
      "\n",
      "\n",
      "Student ID: 11\n",
      "Student Class: 11\n",
      "Student Name: Isha\n",
      "\n",
      "\n",
      "\n"
     ]
    }
   ],
   "source": [
    "top = generate_top_students_report()"
   ]
  },
  {
   "cell_type": "code",
   "execution_count": 118,
   "id": "7d12ce48",
   "metadata": {},
   "outputs": [
    {
     "name": "stdout",
     "output_type": "stream",
     "text": [
      "Grades updated successfully\n"
     ]
    }
   ],
   "source": [
    "update_grades(1, [99, 99, 99, 99, 99])"
   ]
  },
  {
   "cell_type": "code",
   "execution_count": 119,
   "id": "f059ad64",
   "metadata": {},
   "outputs": [
    {
     "name": "stdout",
     "output_type": "stream",
     "text": [
      "Student ID: 12\n",
      "Student Class: 12\n",
      "Student Name: Yash\n",
      "\n",
      "\n",
      "\n",
      "Student ID: 11\n",
      "Student Class: 11\n",
      "Student Name: Isha\n",
      "\n",
      "\n",
      "\n"
     ]
    }
   ],
   "source": [
    "top = generate_top_students_report()"
   ]
  },
  {
   "cell_type": "code",
   "execution_count": 122,
   "id": "aad7dda4",
   "metadata": {},
   "outputs": [
    {
     "name": "stdout",
     "output_type": "stream",
     "text": [
      "Student averages: \n",
      "Average of Student ID - 1 = 99.0\n",
      "Average of Student ID - 2 = 77.2\n",
      "Average of Student ID - 3 = 95.6\n",
      "Average of Student ID - 4 = 87.4\n",
      "Average of Student ID - 5 = 98.4\n"
     ]
    }
   ],
   "source": [
    "print(\"Student averages: \")\n",
    "for i in range(1, 6):\n",
    "    print(\"Average of Student ID - \" + str(i) +\" = \" + str(calculate_average(i)))"
   ]
  },
  {
   "cell_type": "code",
   "execution_count": 124,
   "id": "1a7c3381",
   "metadata": {},
   "outputs": [],
   "source": [
    "add_student(6, \"abcd\",11, [50, 60, 70, 80, 90])"
   ]
  },
  {
   "cell_type": "code",
   "execution_count": 125,
   "id": "567684ce",
   "metadata": {},
   "outputs": [
    {
     "name": "stdout",
     "output_type": "stream",
     "text": [
      "Student ID: 1\n",
      "Student Name: Yash\n",
      "Student Class: 12\n",
      "Student Grades: [99, 99, 99, 99, 99]\n",
      "\n",
      "\n",
      "\n",
      "Student ID: 2\n",
      "Student Name: Saksham\n",
      "Student Class: 12\n",
      "Student Grades: [78, 97, 67, 66, 78]\n",
      "\n",
      "\n",
      "\n",
      "Student ID: 3\n",
      "Student Name: Vanshul\n",
      "Student Class: 12\n",
      "Student Grades: [98, 97, 90, 98, 95]\n",
      "\n",
      "\n",
      "\n",
      "Student ID: 4\n",
      "Student Name: Mittal\n",
      "Student Class: 11\n",
      "Student Grades: [67, 97, 89, 89, 95]\n",
      "\n",
      "\n",
      "\n",
      "Student ID: 5\n",
      "Student Name: Isha\n",
      "Student Class: 11\n",
      "Student Grades: [98, 97, 99, 99, 99]\n",
      "\n",
      "\n",
      "\n",
      "Student ID: 6\n",
      "Student Name: abcd\n",
      "Student Class: 11\n",
      "Student Grades: [50, 60, 70, 80, 90]\n",
      "\n",
      "\n",
      "\n"
     ]
    }
   ],
   "source": [
    "get_all_data()"
   ]
  },
  {
   "cell_type": "code",
   "execution_count": null,
   "id": "e2439af5",
   "metadata": {},
   "outputs": [],
   "source": []
  }
 ],
 "metadata": {
  "kernelspec": {
   "display_name": "Python 3 (ipykernel)",
   "language": "python",
   "name": "python3"
  },
  "language_info": {
   "codemirror_mode": {
    "name": "ipython",
    "version": 3
   },
   "file_extension": ".py",
   "mimetype": "text/x-python",
   "name": "python",
   "nbconvert_exporter": "python",
   "pygments_lexer": "ipython3",
   "version": "3.11.5"
  }
 },
 "nbformat": 4,
 "nbformat_minor": 5
}
